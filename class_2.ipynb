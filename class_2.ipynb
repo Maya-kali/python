{
 "cells": [
  {
   "cell_type": "code",
   "execution_count": 1,
   "metadata": {},
   "outputs": [
    {
     "ename": "SyntaxError",
     "evalue": "unterminated string literal (detected at line 1) (530771288.py, line 1)",
     "output_type": "error",
     "traceback": [
      "\u001b[0;36m  Cell \u001b[0;32mIn[1], line 1\u001b[0;36m\u001b[0m\n\u001b[0;31m    message : str = 'PIAIC Student Card \\n father's Name'\u001b[0m\n\u001b[0m                                                        ^\u001b[0m\n\u001b[0;31mSyntaxError\u001b[0m\u001b[0;31m:\u001b[0m unterminated string literal (detected at line 1)\n"
     ]
    }
   ],
   "source": [
    "message : str = 'PIAIC Student Card \\n father's Name'"
   ]
  },
  {
   "cell_type": "code",
   "execution_count": 5,
   "metadata": {},
   "outputs": [
    {
     "name": "stdout",
     "output_type": "stream",
     "text": [
      "PIAIC Student Card \n",
      "father's Name\n"
     ]
    }
   ],
   "source": [
    "message : str = \"PIAIC Student Card \\nfather's Name\"\n",
    "print(message)"
   ]
  },
  {
   "cell_type": "code",
   "execution_count": 7,
   "metadata": {},
   "outputs": [
    {
     "name": "stdout",
     "output_type": "stream",
     "text": [
      "PIAIC Student Card \n",
      " father's Name\n"
     ]
    }
   ],
   "source": [
    "message : str = 'PIAIC Student Card \\n father\\'s Name'\n",
    "print(message)"
   ]
  },
  {
   "cell_type": "code",
   "execution_count": 2,
   "metadata": {},
   "outputs": [
    {
     "name": "stderr",
     "output_type": "stream",
     "text": [
      "<>:6: SyntaxWarning: invalid escape sequence '\\S'\n",
      "<>:6: SyntaxWarning: invalid escape sequence '\\S'\n",
      "/tmp/ipykernel_3188/2335316688.py:6: SyntaxWarning: invalid escape sequence '\\S'\n",
      "  card : str = \"PIAIC Student Card\\nStudent Name:\"+ name + \"n\\Student \"+ age\n",
      "/tmp/ipykernel_3188/2335316688.py:6: SyntaxWarning: invalid escape sequence '\\S'\n",
      "  card : str = \"PIAIC Student Card\\nStudent Name:\"+ name + \"n\\Student \"+ age\n"
     ]
    },
    {
     "ename": "TypeError",
     "evalue": "can only concatenate str (not \"int\") to str",
     "output_type": "error",
     "traceback": [
      "\u001b[0;31m---------------------------------------------------------------------------\u001b[0m",
      "\u001b[0;31mTypeError\u001b[0m                                 Traceback (most recent call last)",
      "Cell \u001b[0;32mIn[2], line 6\u001b[0m\n\u001b[1;32m      3\u001b[0m education : \u001b[39mstr\u001b[39m \u001b[39m=\u001b[39m \u001b[39m\"\u001b[39m\u001b[39mBecome Education\u001b[39m\u001b[39m\"\u001b[39m\n\u001b[1;32m      4\u001b[0m age : \u001b[39mint\u001b[39m \u001b[39m=\u001b[39m \u001b[39m30\u001b[39m\n\u001b[0;32m----> 6\u001b[0m card : \u001b[39mstr\u001b[39m \u001b[39m=\u001b[39m \u001b[39m\"\u001b[39;49m\u001b[39mPIAIC Student Card\u001b[39;49m\u001b[39m\\n\u001b[39;49;00m\u001b[39mStudent Name:\u001b[39;49m\u001b[39m\"\u001b[39;49m\u001b[39m+\u001b[39;49m name \u001b[39m+\u001b[39;49m \u001b[39m\"\u001b[39;49m\u001b[39mn\u001b[39;49m\u001b[39m\\\u001b[39;49m\u001b[39mStudent \u001b[39;49m\u001b[39m\"\u001b[39;49m\u001b[39m+\u001b[39;49m age\n\u001b[1;32m      7\u001b[0m \u001b[39mprint\u001b[39m(card)\n",
      "\u001b[0;31mTypeError\u001b[0m: can only concatenate str (not \"int\") to str"
     ]
    }
   ],
   "source": [
    "name : str = \"Saad Ahmad Khan\"\n",
    "f_name : str = \"Basheer Khan\"\n",
    "education : str = \"Become Education\"\n",
    "age : int = 30\n",
    "\n",
    "card : str = \"PIAIC Student Card\\nStudent Name:\"+ name + \"n\\Student \"+ age\n",
    "print(card)"
   ]
  },
  {
   "cell_type": "code",
   "execution_count": 5,
   "metadata": {},
   "outputs": [
    {
     "name": "stdout",
     "output_type": "stream",
     "text": [
      "PIAIC Student Card\n",
      "Student Name:Saad Ahmad Khan\n",
      "Student age: 30\n"
     ]
    }
   ],
   "source": [
    "name : str = \"Saad Ahmad Khan\"\n",
    "f_name : str = \"Basheer Khan\"\n",
    "education : str = \"Become Education\"\n",
    "age : str = \"30\"\n",
    "\n",
    "card : str = \"PIAIC Student Card\\nStudent Name:\"+ name + \"\\nStudent age: \"+ str(age)\n",
    "print(card)"
   ]
  },
  {
   "cell_type": "code",
   "execution_count": 6,
   "metadata": {},
   "outputs": [
    {
     "name": "stdout",
     "output_type": "stream",
     "text": [
      "17\n"
     ]
    }
   ],
   "source": [
    "print(7+ \\ \n",
    "    8+ \\\n",
    "    2)\n",
    "# back slash = line continue"
   ]
  },
  {
   "cell_type": "code",
   "execution_count": 9,
   "metadata": {},
   "outputs": [
    {
     "name": "stdout",
     "output_type": "stream",
     "text": [
      "PIAIC Student Card\n",
      "Student Name:Saad Ahmad Khan\n",
      "Student age: 30\n",
      "Education: Become Education\n"
     ]
    }
   ],
   "source": [
    "name : str = \"Saad Ahmad Khan\"\n",
    "f_name : str = \"Basheer Khan\"\n",
    "education : str = \"Become Education\"\n",
    "age : str = \"30\"\n",
    "\n",
    "card : str = \"PIAIC Student Card\\nStudent Name:\"+ name+\\\n",
    "\"\\nStudent age: \"+ str(age) + \"\\n\"+\\\n",
    "\"Education: \"+education\n",
    "print(card)"
   ]
  },
  {
   "cell_type": "markdown",
   "metadata": {},
   "source": [
    "## Define Multiline String \"\"\" \"\"\", ''' '''\n",
    "\n",
    "# F-string  python\n",
    "\n",
    "# Recommended"
   ]
  },
  {
   "cell_type": "code",
   "execution_count": 11,
   "metadata": {},
   "outputs": [
    {
     "name": "stdout",
     "output_type": "stream",
     "text": [
      "\n",
      "PIAIC Student Cart\n",
      "Student Name : Saad Ahmad Khan\n",
      "Father's Name : Basheer Khan \n",
      "Age : 30\n",
      "Education : Become Education \n",
      "\n",
      "\n"
     ]
    }
   ],
   "source": [
    "name : str = \"Saad Ahmad Khan\"\n",
    "f_name : str = \"Basheer Khan\"\n",
    "education : str = \"Become Education\"\n",
    "age : str = \"30\"\n",
    "\n",
    "card : str = f\"\"\"\n",
    "PIAIC Student Cart\n",
    "Student Name : {name}\n",
    "Father's Name : {f_name} \n",
    "Age : {age}\n",
    "Education : {education} \n",
    "\n",
    "\"\"\"\n",
    "print(card)\n",
    "\n"
   ]
  },
  {
   "cell_type": "code",
   "execution_count": 12,
   "metadata": {},
   "outputs": [
    {
     "name": "stdout",
     "output_type": "stream",
     "text": [
      "\n",
      "PIAIC Student Cart\n",
      "Student Name : Saad Ahmad Khan\n",
      "Father's Name : Basheer Khan \n",
      "Age : 30\n",
      "Education : Become Education \n",
      "\n",
      "\n"
     ]
    }
   ],
   "source": [
    "name : str = \"Saad Ahmad Khan\"\n",
    "f_name : str = \"Basheer Khan\"\n",
    "education : str = \"Become Education\"\n",
    "age : str = \"30\"\n",
    "\n",
    "card : str = f'''\n",
    "PIAIC Student Cart\n",
    "Student Name : {name}\n",
    "Father's Name : {f_name} \n",
    "Age : {age}\n",
    "Education : {education} \n",
    "\n",
    "'''\n",
    "print(card)\n",
    "\n"
   ]
  },
  {
   "cell_type": "markdown",
   "metadata": {},
   "source": [
    "# TypeSccipt"
   ]
  },
  {
   "cell_type": "code",
   "execution_count": null,
   "metadata": {},
   "outputs": [],
   "source": [
    "name : str = \"Saad Ahmad Khan\"\n",
    "f_name : str = \"Basheer Khan\"\n",
    "education : str = \"Become Education\"\n",
    "age : str = \"30\"\n",
    "\n",
    "card : str = f`\n",
    "PIAIC Student Cart\n",
    "Student Name : {name}\n",
    "Father's Name : {f_name} \n",
    "Age : {age}\n",
    "Education : {education} \n",
    "\n",
    "`\n",
    "print(card)\n",
    "\n"
   ]
  },
  {
   "cell_type": "code",
   "execution_count": 13,
   "metadata": {},
   "outputs": [
    {
     "name": "stdout",
     "output_type": "stream",
     "text": [
      "\n",
      "PIAIC Student Cart\n",
      "Student Name : Saad Ahmad Khan\n",
      "Father's Name : Basheer Khan \n",
      "Age : 30\n",
      "Education : Become Education \n",
      "\n",
      "Total : 21\n",
      "\n"
     ]
    }
   ],
   "source": [
    "name : str = \"Saad Ahmad Khan\"\n",
    "f_name : str = \"Basheer Khan\"\n",
    "education : str = \"Become Education\"\n",
    "age : str = \"30\"\n",
    "\n",
    "card : str = f\"\"\"\n",
    "PIAIC Student Cart\n",
    "Student Name : {name}\n",
    "Father's Name : {f_name} \n",
    "Age : {age}\n",
    "Education : {education} \n",
    "\n",
    "Total : {2 + 8 + 6 + 5}\n",
    "\"\"\"\n",
    "print(card)\n",
    "\n"
   ]
  },
  {
   "cell_type": "markdown",
   "metadata": {},
   "source": [
    "F-string and jinja style"
   ]
  },
  {
   "cell_type": "code",
   "execution_count": 14,
   "metadata": {},
   "outputs": [
    {
     "data": {
      "text/plain": [
       "' \\nstudent name Saad Ahmad Khan \\n'"
      ]
     },
     "execution_count": 14,
     "metadata": {},
     "output_type": "execute_result"
    }
   ],
   "source": [
    "f\"\"\" \n",
    "student name {name} \n",
    "\"\"\""
   ]
  },
  {
   "cell_type": "code",
   "execution_count": 15,
   "metadata": {},
   "outputs": [
    {
     "data": {
      "text/plain": [
       "' \\nstudent \" name {{name}}\\n'"
      ]
     },
     "execution_count": 15,
     "metadata": {},
     "output_type": "execute_result"
    }
   ],
   "source": [
    "# Jinja Style\n",
    "\"\"\" \n",
    "student \" name {{name}}\n",
    "\"\"\""
   ]
  },
  {
   "cell_type": "markdown",
   "metadata": {},
   "source": [
    "# In C++"
   ]
  },
  {
   "cell_type": "code",
   "execution_count": null,
   "metadata": {},
   "outputs": [],
   "source": [
    "name : str = \"Saad Ahmad Khan\"\n",
    "f_name : str = \"Basheer Khan\"\n",
    "education : str = \"Become Education\"\n",
    "age : str = \"30\"\n",
    "\n",
    "card : str = f\"\"\"\n",
    "PIAIC Student Cart\n",
    "Student Name : %s\n",
    "Father's Name :  %s\n",
    "Age : %d\n",
    "Education : %s\n",
    "\n",
    "\n",
    "\"\"\" % {name, f_name,age, education}\n",
    "print(card)\n",
    "\n"
   ]
  },
  {
   "cell_type": "code",
   "execution_count": 20,
   "metadata": {},
   "outputs": [
    {
     "name": "stdout",
     "output_type": "stream",
     "text": [
      "Saad ahmad khan\n",
      "saad ahmad khan\n",
      "SAAD AHMAD KHAN\n"
     ]
    }
   ],
   "source": [
    "name : str = \"Saad Ahmad Khan\"\n",
    "print(name.capitalize())\n",
    "print(name.lower())\n",
    "print(name.upper())\n"
   ]
  },
  {
   "cell_type": "code",
   "execution_count": null,
   "metadata": {},
   "outputs": [],
   "source": []
  },
  {
   "cell_type": "code",
   "execution_count": 21,
   "metadata": {},
   "outputs": [
    {
     "data": {
      "text/plain": [
       "'pakistan value a = 7 and value b = 8'"
      ]
     },
     "execution_count": 21,
     "metadata": {},
     "output_type": "execute_result"
    }
   ],
   "source": [
    "a = 7 \n",
    "b = 8\n",
    "# {} place holder\n",
    "\"pakistan value a = {} and value b = {}\".format(a,b)"
   ]
  },
  {
   "cell_type": "code",
   "execution_count": null,
   "metadata": {},
   "outputs": [],
   "source": [
    "a = 7 \n",
    "b = 8\n",
    "# {} place holder\n",
    "\"pakistan value a = {} and value b = {}\".format(a,b)"
   ]
  },
  {
   "cell_type": "code",
   "execution_count": 22,
   "metadata": {},
   "outputs": [
    {
     "ename": "KeyError",
     "evalue": "'2 + 8 + 6 + 5'",
     "output_type": "error",
     "traceback": [
      "\u001b[0;31m---------------------------------------------------------------------------\u001b[0m",
      "\u001b[0;31mKeyError\u001b[0m                                  Traceback (most recent call last)",
      "Cell \u001b[0;32mIn[22], line 14\u001b[0m\n\u001b[1;32m      3\u001b[0m education : \u001b[39mstr\u001b[39m \u001b[39m=\u001b[39m \u001b[39m\"\u001b[39m\u001b[39mBecome Education\u001b[39m\u001b[39m\"\u001b[39m\n\u001b[1;32m      4\u001b[0m age : \u001b[39mstr\u001b[39m \u001b[39m=\u001b[39m \u001b[39m\"\u001b[39m\u001b[39m30\u001b[39m\u001b[39m\"\u001b[39m\n\u001b[1;32m      6\u001b[0m card : \u001b[39mstr\u001b[39m \u001b[39m=\u001b[39m \u001b[39m\"\"\"\u001b[39;49m\n\u001b[1;32m      7\u001b[0m \u001b[39mPIAIC Student Cart\u001b[39;49m\n\u001b[1;32m      8\u001b[0m \u001b[39mStudent Name : \u001b[39;49m\u001b[39m{}\u001b[39;49;00m\n\u001b[1;32m      9\u001b[0m \u001b[39mFather\u001b[39;49m\u001b[39m'\u001b[39;49m\u001b[39ms Name : \u001b[39;49m\u001b[39m{}\u001b[39;49;00m\u001b[39m \u001b[39;49m\n\u001b[1;32m     10\u001b[0m \u001b[39mAge : \u001b[39;49m\u001b[39m{}\u001b[39;49;00m\n\u001b[1;32m     11\u001b[0m \u001b[39mEducation : \u001b[39;49m\u001b[39m{}\u001b[39;49;00m\u001b[39m \u001b[39;49m\n\u001b[1;32m     12\u001b[0m \n\u001b[1;32m     13\u001b[0m \u001b[39mTotal : \u001b[39;49m\u001b[39m{\u001b[39;49m\u001b[39m2 + 8 + 6 + 5}\u001b[39;49m\n\u001b[0;32m---> 14\u001b[0m \u001b[39m\"\"\"\u001b[39;49m\u001b[39m.\u001b[39;49mformat(f_name,name,education,age)\n\u001b[1;32m     15\u001b[0m \u001b[39mprint\u001b[39m(card)\n",
      "\u001b[0;31mKeyError\u001b[0m: '2 + 8 + 6 + 5'"
     ]
    }
   ],
   "source": [
    "name : str = \"Saad Ahmad Khan\"\n",
    "f_name : str = \"Basheer Khan\"\n",
    "education : str = \"Become Education\"\n",
    "age : str = \"30\"\n",
    "\n",
    "card : str = \"\"\"\n",
    "PIAIC Student Cart\n",
    "Student Name : {}\n",
    "Father's Name : {} \n",
    "Age : {}\n",
    "Education : {} \n",
    "\n",
    "Total : {2 + 8 + 6 + 5}\n",
    "\"\"\".format(f_name,name,education,age)\n",
    "print(card)\n",
    "\n"
   ]
  },
  {
   "cell_type": "code",
   "execution_count": 23,
   "metadata": {},
   "outputs": [
    {
     "ename": "KeyError",
     "evalue": "'2 + 8 + 6 + 5'",
     "output_type": "error",
     "traceback": [
      "\u001b[0;31m---------------------------------------------------------------------------\u001b[0m",
      "\u001b[0;31mKeyError\u001b[0m                                  Traceback (most recent call last)",
      "Cell \u001b[0;32mIn[23], line 14\u001b[0m\n\u001b[1;32m      3\u001b[0m education : \u001b[39mstr\u001b[39m \u001b[39m=\u001b[39m \u001b[39m\"\u001b[39m\u001b[39mBecome Education\u001b[39m\u001b[39m\"\u001b[39m\n\u001b[1;32m      4\u001b[0m age : \u001b[39mstr\u001b[39m \u001b[39m=\u001b[39m \u001b[39m\"\u001b[39m\u001b[39m30\u001b[39m\u001b[39m\"\u001b[39m\n\u001b[1;32m      6\u001b[0m card : \u001b[39mstr\u001b[39m \u001b[39m=\u001b[39m \u001b[39m\"\"\"\u001b[39;49m\n\u001b[1;32m      7\u001b[0m \u001b[39mPIAIC Student Cart\u001b[39;49m\n\u001b[1;32m      8\u001b[0m \u001b[39mStudent Name : \u001b[39;49m\u001b[39m{0}\u001b[39;49;00m\n\u001b[1;32m      9\u001b[0m \u001b[39mFather\u001b[39;49m\u001b[39m'\u001b[39;49m\u001b[39ms Name : \u001b[39;49m\u001b[39m{1}\u001b[39;49;00m\u001b[39m \u001b[39;49m\n\u001b[1;32m     10\u001b[0m \u001b[39mAge : \u001b[39;49m\u001b[39m{2}\u001b[39;49;00m\n\u001b[1;32m     11\u001b[0m \u001b[39mEducation : \u001b[39;49m\u001b[39m{3}\u001b[39;49;00m\u001b[39m \u001b[39;49m\n\u001b[1;32m     12\u001b[0m \n\u001b[1;32m     13\u001b[0m \u001b[39mTotal : \u001b[39;49m\u001b[39m{\u001b[39;49m\u001b[39m2 + 8 + 6 + 5}\u001b[39;49m\n\u001b[0;32m---> 14\u001b[0m \u001b[39m\"\"\"\u001b[39;49m\u001b[39m.\u001b[39;49mformat(f_name,name,education,age)\n\u001b[1;32m     15\u001b[0m \u001b[39mprint\u001b[39m(card)\n",
      "\u001b[0;31mKeyError\u001b[0m: '2 + 8 + 6 + 5'"
     ]
    }
   ],
   "source": [
    "name : str = \"Saad Ahmad Khan\"\n",
    "f_name : str = \"Basheer Khan\"\n",
    "education : str = \"Become Education\"\n",
    "age : str = \"30\"\n",
    "\n",
    "card : str = \"\"\"\n",
    "PIAIC Student Cart\n",
    "Student Name : {0}\n",
    "Father's Name : {1} \n",
    "Age : {2}\n",
    "Education : {3} \n",
    "\n",
    "Total : {2 + 8 + 6 + 5}\n",
    "\"\"\".format(f_name,name,education,age)\n",
    "print(card)\n",
    "\n"
   ]
  },
  {
   "cell_type": "code",
   "execution_count": 24,
   "metadata": {},
   "outputs": [
    {
     "ename": "KeyError",
     "evalue": "'a'",
     "output_type": "error",
     "traceback": [
      "\u001b[0;31m---------------------------------------------------------------------------\u001b[0m",
      "\u001b[0;31mKeyError\u001b[0m                                  Traceback (most recent call last)",
      "Cell \u001b[0;32mIn[24], line 14\u001b[0m\n\u001b[1;32m      3\u001b[0m education : \u001b[39mstr\u001b[39m \u001b[39m=\u001b[39m \u001b[39m\"\u001b[39m\u001b[39mBecome Education\u001b[39m\u001b[39m\"\u001b[39m\n\u001b[1;32m      4\u001b[0m age : \u001b[39mstr\u001b[39m \u001b[39m=\u001b[39m \u001b[39m\"\u001b[39m\u001b[39m30\u001b[39m\u001b[39m\"\u001b[39m\n\u001b[1;32m      6\u001b[0m card : \u001b[39mstr\u001b[39m \u001b[39m=\u001b[39m \u001b[39m\"\"\"\u001b[39;49m\n\u001b[1;32m      7\u001b[0m \u001b[39mPIAIC Student Cart\u001b[39;49m\n\u001b[1;32m      8\u001b[0m \u001b[39mStudent Name : \u001b[39;49m\u001b[39m{a}\u001b[39;49;00m\n\u001b[1;32m      9\u001b[0m \u001b[39mFather\u001b[39;49m\u001b[39m'\u001b[39;49m\u001b[39ms Name : \u001b[39;49m\u001b[39m{b}\u001b[39;49;00m\u001b[39m \u001b[39;49m\n\u001b[1;32m     10\u001b[0m \u001b[39mAge : \u001b[39;49m\u001b[39m{c}\u001b[39;49;00m\n\u001b[1;32m     11\u001b[0m \u001b[39mEducation : \u001b[39;49m\u001b[39m{d}\u001b[39;49;00m\u001b[39m \u001b[39;49m\n\u001b[1;32m     12\u001b[0m \n\u001b[1;32m     13\u001b[0m \u001b[39mTotal : \u001b[39;49m\u001b[39m{\u001b[39;49m\u001b[39m2 + 8 + 6 + 5}\u001b[39;49m\n\u001b[0;32m---> 14\u001b[0m \u001b[39m\"\"\"\u001b[39;49m\u001b[39m.\u001b[39;49mformat(f_name,name,education,age)\n\u001b[1;32m     15\u001b[0m \u001b[39mprint\u001b[39m(card)\n",
      "\u001b[0;31mKeyError\u001b[0m: 'a'"
     ]
    }
   ],
   "source": [
    "name : str = \"Saad Ahmad Khan\"\n",
    "f_name : str = \"Basheer Khan\"\n",
    "education : str = \"Become Education\"\n",
    "age : str = \"30\"\n",
    "\n",
    "card : str = \"\"\"\n",
    "PIAIC Student Cart\n",
    "Student Name : {a}\n",
    "Father's Name : {b} \n",
    "Age : {c}\n",
    "Education : {d} \n",
    "\n",
    "Total : {2 + 8 + 6 + 5}\n",
    "\"\"\".format(f_name,name,education,age)\n",
    "print(card)\n",
    "\n"
   ]
  },
  {
   "cell_type": "code",
   "execution_count": 25,
   "metadata": {},
   "outputs": [
    {
     "name": "stdout",
     "output_type": "stream",
     "text": [
      "\n",
      "PIAIC Student Cart\n",
      "Student Name : Saad Ahmad Khan\n",
      "Father's Name : Basheer Khan \n",
      "Age : 30\n",
      "Education : Become Education \n",
      "\n",
      "Total : 21\n",
      "\n"
     ]
    }
   ],
   "source": [
    "name : str = \"Saad Ahmad Khan\"\n",
    "f_name : str = \"Basheer Khan\"\n",
    "education : str = \"Become Education\"\n",
    "age : str = \"30\"\n",
    "\n",
    "card : str = f\"\"\"\n",
    "PIAIC Student Cart\n",
    "Student Name : {name}\n",
    "Father's Name : {f_name} \n",
    "Age : {age}\n",
    "Education : {education} \n",
    "\n",
    "Total : {2 + 8 + 6 + 5}\n",
    "\"\"\"\n",
    "print(card)\n",
    "\n"
   ]
  },
  {
   "cell_type": "code",
   "execution_count": 27,
   "metadata": {},
   "outputs": [
    {
     "name": "stdout",
     "output_type": "stream",
     "text": [
      "Saad Ahmad Khan\n",
      "7\n"
     ]
    }
   ],
   "source": [
    "student_code : str = \"\"\" \n",
    "print(\"Saad Ahmad Khan\")\n",
    "a: int = 4\n",
    "b: int = 3\n",
    "print(a+b)\n",
    "\n",
    "\"\"\"\n",
    "exec(student_code)"
   ]
  },
  {
   "cell_type": "markdown",
   "metadata": {},
   "source": [
    "# Explore string methods and attributes "
   ]
  },
  {
   "cell_type": "code",
   "execution_count": null,
   "metadata": {},
   "outputs": [],
   "source": [
    "a: list[str] = [i for i in dir(str) if \"__\" not in i]\n",
    "print(a)\n",
    "print(len(a))"
   ]
  }
 ],
 "metadata": {
  "kernelspec": {
   "display_name": "repo_saad_python12",
   "language": "python",
   "name": "python3"
  },
  "language_info": {
   "codemirror_mode": {
    "name": "ipython",
    "version": 3
   },
   "file_extension": ".py",
   "mimetype": "text/x-python",
   "name": "python",
   "nbconvert_exporter": "python",
   "pygments_lexer": "ipython3",
   "version": "3.12.0"
  },
  "orig_nbformat": 4
 },
 "nbformat": 4,
 "nbformat_minor": 2
}
